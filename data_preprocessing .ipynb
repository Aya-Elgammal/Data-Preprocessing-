{
 "cells": [
  {
   "cell_type": "markdown",
   "id": "176ba580",
   "metadata": {},
   "source": [
    "# Data description\n",
    "| Column Name        | Description                                                            |\n",
    "|--------------------|-------------------------------------------------------------------------|\n",
    "| Application name   | Name of the application                                                 |\n",
    "| Sort ascending     | Sort in ascending order                                                 |\n",
    "| Sort descending    | Sort in descending order                                                |\n",
    "| Category           | Category the app belongs to                                             |\n",
    "| Rating             | Overall user rating of the app (as when scraped)                        |        |                    |                                                                         |\n",
    "| Reviews            | Number of user reviews for the app (as when scraped)                    |       |                    |                                                                         |\n",
    "| Size               |Size of the app (as when scraped)                                        |\n",
    "| Installs           |Number of user downloads/installs for the app (as when scraped)          |        |                    |                                                                         |\n",
    "| Type               |Whether the app is paid or free                                          |\n",
    "| Price              |Price of the app (as when scraped)                                       |\n",
    "| Content Rating     |Age group the app is targeted at (e.g., Children / Mature 21+ / Adult)   |        |                    |                                                                          |\n",
    "| Genres             | An app can belong to multiple genres (apart from its main category).    |\n",
    "|                    | For example, a  musical family game will belong to multiple genres.     |        |                    |                                                                          |\n",
    "|                    |                                                                         |\n"
   ]
  },
  {
   "cell_type": "markdown",
   "id": "64bafb63",
   "metadata": {},
   "source": [
    "# Work a Data Cleaning"
   ]
  },
  {
   "cell_type": "code",
   "execution_count": 1,
   "id": "4605e880",
   "metadata": {},
   "outputs": [],
   "source": [
    "import pandas as pd\n",
    "import numpy as np"
   ]
  },
  {
   "cell_type": "code",
   "execution_count": 2,
   "id": "f96abb35",
   "metadata": {},
   "outputs": [],
   "source": [
    "data = pd.read_csv(\"googleplaystore.csv\")\n",
    "df = pd.DataFrame(data)"
   ]
  },
  {
   "cell_type": "code",
   "execution_count": 3,
   "id": "78cf0d55",
   "metadata": {},
   "outputs": [
    {
     "data": {
      "text/html": [
       "<div>\n",
       "<style scoped>\n",
       "    .dataframe tbody tr th:only-of-type {\n",
       "        vertical-align: middle;\n",
       "    }\n",
       "\n",
       "    .dataframe tbody tr th {\n",
       "        vertical-align: top;\n",
       "    }\n",
       "\n",
       "    .dataframe thead th {\n",
       "        text-align: right;\n",
       "    }\n",
       "</style>\n",
       "<table border=\"1\" class=\"dataframe\">\n",
       "  <thead>\n",
       "    <tr style=\"text-align: right;\">\n",
       "      <th></th>\n",
       "      <th>App</th>\n",
       "      <th>Category</th>\n",
       "      <th>Rating</th>\n",
       "      <th>Reviews</th>\n",
       "      <th>Size</th>\n",
       "      <th>Installs</th>\n",
       "      <th>Type</th>\n",
       "      <th>Price</th>\n",
       "      <th>Content Rating</th>\n",
       "      <th>Genres</th>\n",
       "      <th>Last Updated</th>\n",
       "      <th>Current Ver</th>\n",
       "      <th>Android Ver</th>\n",
       "    </tr>\n",
       "  </thead>\n",
       "  <tbody>\n",
       "    <tr>\n",
       "      <th>0</th>\n",
       "      <td>Photo Editor &amp; Candy Camera &amp; Grid &amp; ScrapBook</td>\n",
       "      <td>ART_AND_DESIGN</td>\n",
       "      <td>4.1</td>\n",
       "      <td>159</td>\n",
       "      <td>19M</td>\n",
       "      <td>10,000+</td>\n",
       "      <td>Free</td>\n",
       "      <td>0</td>\n",
       "      <td>Everyone</td>\n",
       "      <td>Art &amp; Design</td>\n",
       "      <td>January 7, 2018</td>\n",
       "      <td>1.0.0</td>\n",
       "      <td>4.0.3 and up</td>\n",
       "    </tr>\n",
       "    <tr>\n",
       "      <th>1</th>\n",
       "      <td>Coloring book moana</td>\n",
       "      <td>ART_AND_DESIGN</td>\n",
       "      <td>3.9</td>\n",
       "      <td>967</td>\n",
       "      <td>14M</td>\n",
       "      <td>500,000+</td>\n",
       "      <td>Free</td>\n",
       "      <td>0</td>\n",
       "      <td>Everyone</td>\n",
       "      <td>Art &amp; Design;Pretend Play</td>\n",
       "      <td>January 15, 2018</td>\n",
       "      <td>2.0.0</td>\n",
       "      <td>4.0.3 and up</td>\n",
       "    </tr>\n",
       "    <tr>\n",
       "      <th>2</th>\n",
       "      <td>U Launcher Lite – FREE Live Cool Themes, Hide ...</td>\n",
       "      <td>ART_AND_DESIGN</td>\n",
       "      <td>4.7</td>\n",
       "      <td>87510</td>\n",
       "      <td>8.7M</td>\n",
       "      <td>5,000,000+</td>\n",
       "      <td>Free</td>\n",
       "      <td>0</td>\n",
       "      <td>Everyone</td>\n",
       "      <td>Art &amp; Design</td>\n",
       "      <td>August 1, 2018</td>\n",
       "      <td>1.2.4</td>\n",
       "      <td>4.0.3 and up</td>\n",
       "    </tr>\n",
       "    <tr>\n",
       "      <th>3</th>\n",
       "      <td>Sketch - Draw &amp; Paint</td>\n",
       "      <td>ART_AND_DESIGN</td>\n",
       "      <td>4.5</td>\n",
       "      <td>215644</td>\n",
       "      <td>25M</td>\n",
       "      <td>50,000,000+</td>\n",
       "      <td>Free</td>\n",
       "      <td>0</td>\n",
       "      <td>Teen</td>\n",
       "      <td>Art &amp; Design</td>\n",
       "      <td>June 8, 2018</td>\n",
       "      <td>Varies with device</td>\n",
       "      <td>4.2 and up</td>\n",
       "    </tr>\n",
       "    <tr>\n",
       "      <th>4</th>\n",
       "      <td>Pixel Draw - Number Art Coloring Book</td>\n",
       "      <td>ART_AND_DESIGN</td>\n",
       "      <td>4.3</td>\n",
       "      <td>967</td>\n",
       "      <td>2.8M</td>\n",
       "      <td>100,000+</td>\n",
       "      <td>Free</td>\n",
       "      <td>0</td>\n",
       "      <td>Everyone</td>\n",
       "      <td>Art &amp; Design;Creativity</td>\n",
       "      <td>June 20, 2018</td>\n",
       "      <td>1.1</td>\n",
       "      <td>4.4 and up</td>\n",
       "    </tr>\n",
       "  </tbody>\n",
       "</table>\n",
       "</div>"
      ],
      "text/plain": [
       "                                                 App        Category  Rating  \\\n",
       "0     Photo Editor & Candy Camera & Grid & ScrapBook  ART_AND_DESIGN     4.1   \n",
       "1                                Coloring book moana  ART_AND_DESIGN     3.9   \n",
       "2  U Launcher Lite – FREE Live Cool Themes, Hide ...  ART_AND_DESIGN     4.7   \n",
       "3                              Sketch - Draw & Paint  ART_AND_DESIGN     4.5   \n",
       "4              Pixel Draw - Number Art Coloring Book  ART_AND_DESIGN     4.3   \n",
       "\n",
       "  Reviews  Size     Installs  Type Price Content Rating  \\\n",
       "0     159   19M      10,000+  Free     0       Everyone   \n",
       "1     967   14M     500,000+  Free     0       Everyone   \n",
       "2   87510  8.7M   5,000,000+  Free     0       Everyone   \n",
       "3  215644   25M  50,000,000+  Free     0           Teen   \n",
       "4     967  2.8M     100,000+  Free     0       Everyone   \n",
       "\n",
       "                      Genres      Last Updated         Current Ver  \\\n",
       "0               Art & Design   January 7, 2018               1.0.0   \n",
       "1  Art & Design;Pretend Play  January 15, 2018               2.0.0   \n",
       "2               Art & Design    August 1, 2018               1.2.4   \n",
       "3               Art & Design      June 8, 2018  Varies with device   \n",
       "4    Art & Design;Creativity     June 20, 2018                 1.1   \n",
       "\n",
       "    Android Ver  \n",
       "0  4.0.3 and up  \n",
       "1  4.0.3 and up  \n",
       "2  4.0.3 and up  \n",
       "3    4.2 and up  \n",
       "4    4.4 and up  "
      ]
     },
     "execution_count": 3,
     "metadata": {},
     "output_type": "execute_result"
    }
   ],
   "source": [
    "df.head()"
   ]
  },
  {
   "cell_type": "code",
   "execution_count": 4,
   "id": "9c8efdb1",
   "metadata": {},
   "outputs": [
    {
     "name": "stdout",
     "output_type": "stream",
     "text": [
      "<class 'pandas.core.frame.DataFrame'>\n",
      "RangeIndex: 10841 entries, 0 to 10840\n",
      "Data columns (total 13 columns):\n",
      " #   Column          Non-Null Count  Dtype  \n",
      "---  ------          --------------  -----  \n",
      " 0   App             10841 non-null  object \n",
      " 1   Category        10841 non-null  object \n",
      " 2   Rating          9367 non-null   float64\n",
      " 3   Reviews         10841 non-null  object \n",
      " 4   Size            10841 non-null  object \n",
      " 5   Installs        10841 non-null  object \n",
      " 6   Type            10840 non-null  object \n",
      " 7   Price           10841 non-null  object \n",
      " 8   Content Rating  10840 non-null  object \n",
      " 9   Genres          10841 non-null  object \n",
      " 10  Last Updated    10841 non-null  object \n",
      " 11  Current Ver     10833 non-null  object \n",
      " 12  Android Ver     10838 non-null  object \n",
      "dtypes: float64(1), object(12)\n",
      "memory usage: 1.1+ MB\n"
     ]
    }
   ],
   "source": [
    "df.info()"
   ]
  },
  {
   "cell_type": "code",
   "execution_count": 5,
   "id": "3d803afd",
   "metadata": {},
   "outputs": [
    {
     "data": {
      "text/html": [
       "<div>\n",
       "<style scoped>\n",
       "    .dataframe tbody tr th:only-of-type {\n",
       "        vertical-align: middle;\n",
       "    }\n",
       "\n",
       "    .dataframe tbody tr th {\n",
       "        vertical-align: top;\n",
       "    }\n",
       "\n",
       "    .dataframe thead th {\n",
       "        text-align: right;\n",
       "    }\n",
       "</style>\n",
       "<table border=\"1\" class=\"dataframe\">\n",
       "  <thead>\n",
       "    <tr style=\"text-align: right;\">\n",
       "      <th></th>\n",
       "      <th>Rating</th>\n",
       "    </tr>\n",
       "  </thead>\n",
       "  <tbody>\n",
       "    <tr>\n",
       "      <th>count</th>\n",
       "      <td>9367.000000</td>\n",
       "    </tr>\n",
       "    <tr>\n",
       "      <th>mean</th>\n",
       "      <td>4.193338</td>\n",
       "    </tr>\n",
       "    <tr>\n",
       "      <th>std</th>\n",
       "      <td>0.537431</td>\n",
       "    </tr>\n",
       "    <tr>\n",
       "      <th>min</th>\n",
       "      <td>1.000000</td>\n",
       "    </tr>\n",
       "    <tr>\n",
       "      <th>25%</th>\n",
       "      <td>4.000000</td>\n",
       "    </tr>\n",
       "    <tr>\n",
       "      <th>50%</th>\n",
       "      <td>4.300000</td>\n",
       "    </tr>\n",
       "    <tr>\n",
       "      <th>75%</th>\n",
       "      <td>4.500000</td>\n",
       "    </tr>\n",
       "    <tr>\n",
       "      <th>max</th>\n",
       "      <td>19.000000</td>\n",
       "    </tr>\n",
       "  </tbody>\n",
       "</table>\n",
       "</div>"
      ],
      "text/plain": [
       "            Rating\n",
       "count  9367.000000\n",
       "mean      4.193338\n",
       "std       0.537431\n",
       "min       1.000000\n",
       "25%       4.000000\n",
       "50%       4.300000\n",
       "75%       4.500000\n",
       "max      19.000000"
      ]
     },
     "execution_count": 5,
     "metadata": {},
     "output_type": "execute_result"
    }
   ],
   "source": [
    "df.describe()"
   ]
  },
  {
   "cell_type": "code",
   "execution_count": 6,
   "id": "a7a81a64",
   "metadata": {},
   "outputs": [],
   "source": [
    "# Remove duplicated row\n",
    "df.drop_duplicates(inplace=True)"
   ]
  },
  {
   "cell_type": "code",
   "execution_count": 7,
   "id": "618692c8",
   "metadata": {
    "scrolled": true
   },
   "outputs": [
    {
     "name": "stdout",
     "output_type": "stream",
     "text": [
      "<class 'pandas.core.frame.DataFrame'>\n",
      "Int64Index: 10358 entries, 0 to 10840\n",
      "Data columns (total 13 columns):\n",
      " #   Column          Non-Null Count  Dtype  \n",
      "---  ------          --------------  -----  \n",
      " 0   App             10358 non-null  object \n",
      " 1   Category        10358 non-null  object \n",
      " 2   Rating          8893 non-null   float64\n",
      " 3   Reviews         10358 non-null  object \n",
      " 4   Size            10358 non-null  object \n",
      " 5   Installs        10358 non-null  object \n",
      " 6   Type            10357 non-null  object \n",
      " 7   Price           10358 non-null  object \n",
      " 8   Content Rating  10357 non-null  object \n",
      " 9   Genres          10358 non-null  object \n",
      " 10  Last Updated    10358 non-null  object \n",
      " 11  Current Ver     10350 non-null  object \n",
      " 12  Android Ver     10355 non-null  object \n",
      "dtypes: float64(1), object(12)\n",
      "memory usage: 1.1+ MB\n"
     ]
    }
   ],
   "source": [
    "df.info()"
   ]
  },
  {
   "cell_type": "code",
   "execution_count": 8,
   "id": "276f2cab",
   "metadata": {},
   "outputs": [
    {
     "data": {
      "text/html": [
       "<div>\n",
       "<style scoped>\n",
       "    .dataframe tbody tr th:only-of-type {\n",
       "        vertical-align: middle;\n",
       "    }\n",
       "\n",
       "    .dataframe tbody tr th {\n",
       "        vertical-align: top;\n",
       "    }\n",
       "\n",
       "    .dataframe thead th {\n",
       "        text-align: right;\n",
       "    }\n",
       "</style>\n",
       "<table border=\"1\" class=\"dataframe\">\n",
       "  <thead>\n",
       "    <tr style=\"text-align: right;\">\n",
       "      <th></th>\n",
       "      <th>Rating</th>\n",
       "    </tr>\n",
       "  </thead>\n",
       "  <tbody>\n",
       "    <tr>\n",
       "      <th>count</th>\n",
       "      <td>8893.000000</td>\n",
       "    </tr>\n",
       "    <tr>\n",
       "      <th>mean</th>\n",
       "      <td>4.189542</td>\n",
       "    </tr>\n",
       "    <tr>\n",
       "      <th>std</th>\n",
       "      <td>0.545452</td>\n",
       "    </tr>\n",
       "    <tr>\n",
       "      <th>min</th>\n",
       "      <td>1.000000</td>\n",
       "    </tr>\n",
       "    <tr>\n",
       "      <th>25%</th>\n",
       "      <td>4.000000</td>\n",
       "    </tr>\n",
       "    <tr>\n",
       "      <th>50%</th>\n",
       "      <td>4.300000</td>\n",
       "    </tr>\n",
       "    <tr>\n",
       "      <th>75%</th>\n",
       "      <td>4.500000</td>\n",
       "    </tr>\n",
       "    <tr>\n",
       "      <th>max</th>\n",
       "      <td>19.000000</td>\n",
       "    </tr>\n",
       "  </tbody>\n",
       "</table>\n",
       "</div>"
      ],
      "text/plain": [
       "            Rating\n",
       "count  8893.000000\n",
       "mean      4.189542\n",
       "std       0.545452\n",
       "min       1.000000\n",
       "25%       4.000000\n",
       "50%       4.300000\n",
       "75%       4.500000\n",
       "max      19.000000"
      ]
     },
     "execution_count": 8,
     "metadata": {},
     "output_type": "execute_result"
    }
   ],
   "source": [
    "df.describe()"
   ]
  },
  {
   "cell_type": "code",
   "execution_count": 9,
   "id": "01d3853c",
   "metadata": {},
   "outputs": [],
   "source": [
    "#to fix Rating columns need to fill null vvalues with median as there is an outliers\n",
    "df['Rating'].fillna(df['Rating'].median(), inplace=True)"
   ]
  },
  {
   "cell_type": "code",
   "execution_count": 10,
   "id": "c16a259d",
   "metadata": {},
   "outputs": [
    {
     "name": "stdout",
     "output_type": "stream",
     "text": [
      "<class 'pandas.core.frame.DataFrame'>\n",
      "Int64Index: 10358 entries, 0 to 10840\n",
      "Data columns (total 13 columns):\n",
      " #   Column          Non-Null Count  Dtype  \n",
      "---  ------          --------------  -----  \n",
      " 0   App             10358 non-null  object \n",
      " 1   Category        10358 non-null  object \n",
      " 2   Rating          10358 non-null  float64\n",
      " 3   Reviews         10358 non-null  object \n",
      " 4   Size            10358 non-null  object \n",
      " 5   Installs        10358 non-null  object \n",
      " 6   Type            10357 non-null  object \n",
      " 7   Price           10358 non-null  object \n",
      " 8   Content Rating  10357 non-null  object \n",
      " 9   Genres          10358 non-null  object \n",
      " 10  Last Updated    10358 non-null  object \n",
      " 11  Current Ver     10350 non-null  object \n",
      " 12  Android Ver     10355 non-null  object \n",
      "dtypes: float64(1), object(12)\n",
      "memory usage: 1.1+ MB\n"
     ]
    }
   ],
   "source": [
    "df.info()"
   ]
  },
  {
   "cell_type": "code",
   "execution_count": 11,
   "id": "c826bd0b",
   "metadata": {
    "scrolled": true
   },
   "outputs": [
    {
     "data": {
      "text/html": [
       "<div>\n",
       "<style scoped>\n",
       "    .dataframe tbody tr th:only-of-type {\n",
       "        vertical-align: middle;\n",
       "    }\n",
       "\n",
       "    .dataframe tbody tr th {\n",
       "        vertical-align: top;\n",
       "    }\n",
       "\n",
       "    .dataframe thead th {\n",
       "        text-align: right;\n",
       "    }\n",
       "</style>\n",
       "<table border=\"1\" class=\"dataframe\">\n",
       "  <thead>\n",
       "    <tr style=\"text-align: right;\">\n",
       "      <th></th>\n",
       "      <th>App</th>\n",
       "      <th>Category</th>\n",
       "      <th>Rating</th>\n",
       "      <th>Reviews</th>\n",
       "      <th>Size</th>\n",
       "      <th>Installs</th>\n",
       "      <th>Type</th>\n",
       "      <th>Price</th>\n",
       "      <th>Content Rating</th>\n",
       "      <th>Genres</th>\n",
       "      <th>Last Updated</th>\n",
       "      <th>Current Ver</th>\n",
       "      <th>Android Ver</th>\n",
       "    </tr>\n",
       "  </thead>\n",
       "  <tbody>\n",
       "    <tr>\n",
       "      <th>329</th>\n",
       "      <td>Hojiboy Tojiboyev Life Hacks</td>\n",
       "      <td>COMICS</td>\n",
       "      <td>5.0</td>\n",
       "      <td>15</td>\n",
       "      <td>37M</td>\n",
       "      <td>1,000+</td>\n",
       "      <td>Free</td>\n",
       "      <td>0</td>\n",
       "      <td>Everyone</td>\n",
       "      <td>Comics</td>\n",
       "      <td>June 26, 2018</td>\n",
       "      <td>2.0</td>\n",
       "      <td>4.0.3 and up</td>\n",
       "    </tr>\n",
       "    <tr>\n",
       "      <th>612</th>\n",
       "      <td>American Girls Mobile Numbers</td>\n",
       "      <td>DATING</td>\n",
       "      <td>5.0</td>\n",
       "      <td>5</td>\n",
       "      <td>4.4M</td>\n",
       "      <td>1,000+</td>\n",
       "      <td>Free</td>\n",
       "      <td>0</td>\n",
       "      <td>Mature 17+</td>\n",
       "      <td>Dating</td>\n",
       "      <td>July 17, 2018</td>\n",
       "      <td>3.0</td>\n",
       "      <td>4.0.3 and up</td>\n",
       "    </tr>\n",
       "    <tr>\n",
       "      <th>615</th>\n",
       "      <td>Awake Dating</td>\n",
       "      <td>DATING</td>\n",
       "      <td>5.0</td>\n",
       "      <td>2</td>\n",
       "      <td>70M</td>\n",
       "      <td>100+</td>\n",
       "      <td>Free</td>\n",
       "      <td>0</td>\n",
       "      <td>Mature 17+</td>\n",
       "      <td>Dating</td>\n",
       "      <td>July 24, 2018</td>\n",
       "      <td>2.2.9</td>\n",
       "      <td>4.4 and up</td>\n",
       "    </tr>\n",
       "    <tr>\n",
       "      <th>633</th>\n",
       "      <td>Spine- The dating app</td>\n",
       "      <td>DATING</td>\n",
       "      <td>5.0</td>\n",
       "      <td>5</td>\n",
       "      <td>9.3M</td>\n",
       "      <td>500+</td>\n",
       "      <td>Free</td>\n",
       "      <td>0</td>\n",
       "      <td>Teen</td>\n",
       "      <td>Dating</td>\n",
       "      <td>July 14, 2018</td>\n",
       "      <td>4.0</td>\n",
       "      <td>4.0.3 and up</td>\n",
       "    </tr>\n",
       "    <tr>\n",
       "      <th>636</th>\n",
       "      <td>Girls Live Talk - Free Text and Video Chat</td>\n",
       "      <td>DATING</td>\n",
       "      <td>5.0</td>\n",
       "      <td>6</td>\n",
       "      <td>5.0M</td>\n",
       "      <td>100+</td>\n",
       "      <td>Free</td>\n",
       "      <td>0</td>\n",
       "      <td>Mature 17+</td>\n",
       "      <td>Dating</td>\n",
       "      <td>August 1, 2018</td>\n",
       "      <td>8.2</td>\n",
       "      <td>4.0.3 and up</td>\n",
       "    </tr>\n",
       "    <tr>\n",
       "      <th>...</th>\n",
       "      <td>...</td>\n",
       "      <td>...</td>\n",
       "      <td>...</td>\n",
       "      <td>...</td>\n",
       "      <td>...</td>\n",
       "      <td>...</td>\n",
       "      <td>...</td>\n",
       "      <td>...</td>\n",
       "      <td>...</td>\n",
       "      <td>...</td>\n",
       "      <td>...</td>\n",
       "      <td>...</td>\n",
       "      <td>...</td>\n",
       "    </tr>\n",
       "    <tr>\n",
       "      <th>10721</th>\n",
       "      <td>Mad Dash Fo' Cash</td>\n",
       "      <td>GAME</td>\n",
       "      <td>5.0</td>\n",
       "      <td>14</td>\n",
       "      <td>16M</td>\n",
       "      <td>100+</td>\n",
       "      <td>Free</td>\n",
       "      <td>0</td>\n",
       "      <td>Everyone</td>\n",
       "      <td>Arcade</td>\n",
       "      <td>June 19, 2017</td>\n",
       "      <td>2.5a</td>\n",
       "      <td>4.1 and up</td>\n",
       "    </tr>\n",
       "    <tr>\n",
       "      <th>10742</th>\n",
       "      <td>GKPB FP Online Church</td>\n",
       "      <td>LIFESTYLE</td>\n",
       "      <td>5.0</td>\n",
       "      <td>32</td>\n",
       "      <td>7.9M</td>\n",
       "      <td>1,000+</td>\n",
       "      <td>Free</td>\n",
       "      <td>0</td>\n",
       "      <td>Everyone</td>\n",
       "      <td>Lifestyle</td>\n",
       "      <td>December 31, 2017</td>\n",
       "      <td>0.7.1</td>\n",
       "      <td>4.4 and up</td>\n",
       "    </tr>\n",
       "    <tr>\n",
       "      <th>10776</th>\n",
       "      <td>Monster Ride Pro</td>\n",
       "      <td>GAME</td>\n",
       "      <td>5.0</td>\n",
       "      <td>1</td>\n",
       "      <td>24M</td>\n",
       "      <td>10+</td>\n",
       "      <td>Free</td>\n",
       "      <td>0</td>\n",
       "      <td>Everyone</td>\n",
       "      <td>Racing</td>\n",
       "      <td>March 5, 2018</td>\n",
       "      <td>2.0</td>\n",
       "      <td>2.3 and up</td>\n",
       "    </tr>\n",
       "    <tr>\n",
       "      <th>10820</th>\n",
       "      <td>Fr. Daoud Lamei</td>\n",
       "      <td>FAMILY</td>\n",
       "      <td>5.0</td>\n",
       "      <td>22</td>\n",
       "      <td>8.6M</td>\n",
       "      <td>1,000+</td>\n",
       "      <td>Free</td>\n",
       "      <td>0</td>\n",
       "      <td>Teen</td>\n",
       "      <td>Education</td>\n",
       "      <td>June 27, 2018</td>\n",
       "      <td>3.8.0</td>\n",
       "      <td>4.1 and up</td>\n",
       "    </tr>\n",
       "    <tr>\n",
       "      <th>10837</th>\n",
       "      <td>Fr. Mike Schmitz Audio Teachings</td>\n",
       "      <td>FAMILY</td>\n",
       "      <td>5.0</td>\n",
       "      <td>4</td>\n",
       "      <td>3.6M</td>\n",
       "      <td>100+</td>\n",
       "      <td>Free</td>\n",
       "      <td>0</td>\n",
       "      <td>Everyone</td>\n",
       "      <td>Education</td>\n",
       "      <td>July 6, 2018</td>\n",
       "      <td>1.0</td>\n",
       "      <td>4.1 and up</td>\n",
       "    </tr>\n",
       "  </tbody>\n",
       "</table>\n",
       "<p>272 rows × 13 columns</p>\n",
       "</div>"
      ],
      "text/plain": [
       "                                              App   Category  Rating Reviews  \\\n",
       "329                  Hojiboy Tojiboyev Life Hacks     COMICS     5.0      15   \n",
       "612                 American Girls Mobile Numbers     DATING     5.0       5   \n",
       "615                                  Awake Dating     DATING     5.0       2   \n",
       "633                         Spine- The dating app     DATING     5.0       5   \n",
       "636    Girls Live Talk - Free Text and Video Chat     DATING     5.0       6   \n",
       "...                                           ...        ...     ...     ...   \n",
       "10721                           Mad Dash Fo' Cash       GAME     5.0      14   \n",
       "10742                       GKPB FP Online Church  LIFESTYLE     5.0      32   \n",
       "10776                            Monster Ride Pro       GAME     5.0       1   \n",
       "10820                             Fr. Daoud Lamei     FAMILY     5.0      22   \n",
       "10837            Fr. Mike Schmitz Audio Teachings     FAMILY     5.0       4   \n",
       "\n",
       "       Size Installs  Type Price Content Rating     Genres       Last Updated  \\\n",
       "329     37M   1,000+  Free     0       Everyone     Comics      June 26, 2018   \n",
       "612    4.4M   1,000+  Free     0     Mature 17+     Dating      July 17, 2018   \n",
       "615     70M     100+  Free     0     Mature 17+     Dating      July 24, 2018   \n",
       "633    9.3M     500+  Free     0           Teen     Dating      July 14, 2018   \n",
       "636    5.0M     100+  Free     0     Mature 17+     Dating     August 1, 2018   \n",
       "...     ...      ...   ...   ...            ...        ...                ...   \n",
       "10721   16M     100+  Free     0       Everyone     Arcade      June 19, 2017   \n",
       "10742  7.9M   1,000+  Free     0       Everyone  Lifestyle  December 31, 2017   \n",
       "10776   24M      10+  Free     0       Everyone     Racing      March 5, 2018   \n",
       "10820  8.6M   1,000+  Free     0           Teen  Education      June 27, 2018   \n",
       "10837  3.6M     100+  Free     0       Everyone  Education       July 6, 2018   \n",
       "\n",
       "      Current Ver   Android Ver  \n",
       "329           2.0  4.0.3 and up  \n",
       "612           3.0  4.0.3 and up  \n",
       "615         2.2.9    4.4 and up  \n",
       "633           4.0  4.0.3 and up  \n",
       "636           8.2  4.0.3 and up  \n",
       "...           ...           ...  \n",
       "10721        2.5a    4.1 and up  \n",
       "10742       0.7.1    4.4 and up  \n",
       "10776         2.0    2.3 and up  \n",
       "10820       3.8.0    4.1 and up  \n",
       "10837         1.0    4.1 and up  \n",
       "\n",
       "[272 rows x 13 columns]"
      ]
     },
     "execution_count": 11,
     "metadata": {},
     "output_type": "execute_result"
    }
   ],
   "source": [
    "df[df['Rating']>=5]"
   ]
  },
  {
   "cell_type": "code",
   "execution_count": 12,
   "id": "d34b7130",
   "metadata": {},
   "outputs": [],
   "source": [
    "#handling outliers problem by fill them be the median\n",
    "df.loc[df['Rating'] >5, 'Rating'] = df['Rating'].median()"
   ]
  },
  {
   "cell_type": "code",
   "execution_count": 13,
   "id": "c7af8d32",
   "metadata": {},
   "outputs": [
    {
     "data": {
      "text/plain": [
       "5.0"
      ]
     },
     "execution_count": 13,
     "metadata": {},
     "output_type": "execute_result"
    }
   ],
   "source": [
    "df['Rating'].max()"
   ]
  },
  {
   "cell_type": "code",
   "execution_count": 14,
   "id": "1808230a",
   "metadata": {},
   "outputs": [],
   "source": [
    "#now  i can say the Rating is fixed  "
   ]
  },
  {
   "cell_type": "markdown",
   "id": "98f441e3",
   "metadata": {},
   "source": [
    "# Fix Size"
   ]
  },
  {
   "cell_type": "code",
   "execution_count": 15,
   "id": "7252659d",
   "metadata": {},
   "outputs": [
    {
     "data": {
      "text/html": [
       "<div>\n",
       "<style scoped>\n",
       "    .dataframe tbody tr th:only-of-type {\n",
       "        vertical-align: middle;\n",
       "    }\n",
       "\n",
       "    .dataframe tbody tr th {\n",
       "        vertical-align: top;\n",
       "    }\n",
       "\n",
       "    .dataframe thead th {\n",
       "        text-align: right;\n",
       "    }\n",
       "</style>\n",
       "<table border=\"1\" class=\"dataframe\">\n",
       "  <thead>\n",
       "    <tr style=\"text-align: right;\">\n",
       "      <th></th>\n",
       "      <th>App</th>\n",
       "      <th>Category</th>\n",
       "      <th>Rating</th>\n",
       "      <th>Reviews</th>\n",
       "      <th>Size</th>\n",
       "      <th>Installs</th>\n",
       "      <th>Type</th>\n",
       "      <th>Price</th>\n",
       "      <th>Content Rating</th>\n",
       "      <th>Genres</th>\n",
       "      <th>Last Updated</th>\n",
       "      <th>Current Ver</th>\n",
       "      <th>Android Ver</th>\n",
       "    </tr>\n",
       "  </thead>\n",
       "  <tbody>\n",
       "    <tr>\n",
       "      <th>0</th>\n",
       "      <td>Photo Editor &amp; Candy Camera &amp; Grid &amp; ScrapBook</td>\n",
       "      <td>ART_AND_DESIGN</td>\n",
       "      <td>4.1</td>\n",
       "      <td>159</td>\n",
       "      <td>19M</td>\n",
       "      <td>10,000+</td>\n",
       "      <td>Free</td>\n",
       "      <td>0</td>\n",
       "      <td>Everyone</td>\n",
       "      <td>Art &amp; Design</td>\n",
       "      <td>January 7, 2018</td>\n",
       "      <td>1.0.0</td>\n",
       "      <td>4.0.3 and up</td>\n",
       "    </tr>\n",
       "    <tr>\n",
       "      <th>1</th>\n",
       "      <td>Coloring book moana</td>\n",
       "      <td>ART_AND_DESIGN</td>\n",
       "      <td>3.9</td>\n",
       "      <td>967</td>\n",
       "      <td>14M</td>\n",
       "      <td>500,000+</td>\n",
       "      <td>Free</td>\n",
       "      <td>0</td>\n",
       "      <td>Everyone</td>\n",
       "      <td>Art &amp; Design;Pretend Play</td>\n",
       "      <td>January 15, 2018</td>\n",
       "      <td>2.0.0</td>\n",
       "      <td>4.0.3 and up</td>\n",
       "    </tr>\n",
       "    <tr>\n",
       "      <th>2</th>\n",
       "      <td>U Launcher Lite – FREE Live Cool Themes, Hide ...</td>\n",
       "      <td>ART_AND_DESIGN</td>\n",
       "      <td>4.7</td>\n",
       "      <td>87510</td>\n",
       "      <td>8.7M</td>\n",
       "      <td>5,000,000+</td>\n",
       "      <td>Free</td>\n",
       "      <td>0</td>\n",
       "      <td>Everyone</td>\n",
       "      <td>Art &amp; Design</td>\n",
       "      <td>August 1, 2018</td>\n",
       "      <td>1.2.4</td>\n",
       "      <td>4.0.3 and up</td>\n",
       "    </tr>\n",
       "    <tr>\n",
       "      <th>3</th>\n",
       "      <td>Sketch - Draw &amp; Paint</td>\n",
       "      <td>ART_AND_DESIGN</td>\n",
       "      <td>4.5</td>\n",
       "      <td>215644</td>\n",
       "      <td>25M</td>\n",
       "      <td>50,000,000+</td>\n",
       "      <td>Free</td>\n",
       "      <td>0</td>\n",
       "      <td>Teen</td>\n",
       "      <td>Art &amp; Design</td>\n",
       "      <td>June 8, 2018</td>\n",
       "      <td>Varies with device</td>\n",
       "      <td>4.2 and up</td>\n",
       "    </tr>\n",
       "    <tr>\n",
       "      <th>4</th>\n",
       "      <td>Pixel Draw - Number Art Coloring Book</td>\n",
       "      <td>ART_AND_DESIGN</td>\n",
       "      <td>4.3</td>\n",
       "      <td>967</td>\n",
       "      <td>2.8M</td>\n",
       "      <td>100,000+</td>\n",
       "      <td>Free</td>\n",
       "      <td>0</td>\n",
       "      <td>Everyone</td>\n",
       "      <td>Art &amp; Design;Creativity</td>\n",
       "      <td>June 20, 2018</td>\n",
       "      <td>1.1</td>\n",
       "      <td>4.4 and up</td>\n",
       "    </tr>\n",
       "  </tbody>\n",
       "</table>\n",
       "</div>"
      ],
      "text/plain": [
       "                                                 App        Category  Rating  \\\n",
       "0     Photo Editor & Candy Camera & Grid & ScrapBook  ART_AND_DESIGN     4.1   \n",
       "1                                Coloring book moana  ART_AND_DESIGN     3.9   \n",
       "2  U Launcher Lite – FREE Live Cool Themes, Hide ...  ART_AND_DESIGN     4.7   \n",
       "3                              Sketch - Draw & Paint  ART_AND_DESIGN     4.5   \n",
       "4              Pixel Draw - Number Art Coloring Book  ART_AND_DESIGN     4.3   \n",
       "\n",
       "  Reviews  Size     Installs  Type Price Content Rating  \\\n",
       "0     159   19M      10,000+  Free     0       Everyone   \n",
       "1     967   14M     500,000+  Free     0       Everyone   \n",
       "2   87510  8.7M   5,000,000+  Free     0       Everyone   \n",
       "3  215644   25M  50,000,000+  Free     0           Teen   \n",
       "4     967  2.8M     100,000+  Free     0       Everyone   \n",
       "\n",
       "                      Genres      Last Updated         Current Ver  \\\n",
       "0               Art & Design   January 7, 2018               1.0.0   \n",
       "1  Art & Design;Pretend Play  January 15, 2018               2.0.0   \n",
       "2               Art & Design    August 1, 2018               1.2.4   \n",
       "3               Art & Design      June 8, 2018  Varies with device   \n",
       "4    Art & Design;Creativity     June 20, 2018                 1.1   \n",
       "\n",
       "    Android Ver  \n",
       "0  4.0.3 and up  \n",
       "1  4.0.3 and up  \n",
       "2  4.0.3 and up  \n",
       "3    4.2 and up  \n",
       "4    4.4 and up  "
      ]
     },
     "execution_count": 15,
     "metadata": {},
     "output_type": "execute_result"
    }
   ],
   "source": [
    "df.head()"
   ]
  },
  {
   "cell_type": "code",
   "execution_count": 16,
   "id": "2a94fdea",
   "metadata": {},
   "outputs": [],
   "source": [
    "# Replace 'Varies with device' with NaN to handle missing values\n",
    "df['Size'] = df['Size'].replace(\"Varies with device\", np.nan)"
   ]
  },
  {
   "cell_type": "code",
   "execution_count": 17,
   "id": "875c0ed8",
   "metadata": {
    "scrolled": false
   },
   "outputs": [
    {
     "name": "stdout",
     "output_type": "stream",
     "text": [
      "<class 'pandas.core.series.Series'>\n",
      "Int64Index: 10358 entries, 0 to 10840\n",
      "Series name: Size\n",
      "Non-Null Count  Dtype \n",
      "--------------  ----- \n",
      "8832 non-null   object\n",
      "dtypes: object(1)\n",
      "memory usage: 161.8+ KB\n"
     ]
    }
   ],
   "source": [
    "df['Size'].info()"
   ]
  },
  {
   "cell_type": "code",
   "execution_count": 18,
   "id": "051a4308",
   "metadata": {},
   "outputs": [],
   "source": [
    "# Extract numeric values from 'Size' (e.g., \"19M\" → \"19\")\n",
    "df['Size_Value'] = df['Size'].str.extract(r'([\\d.]+)').astype(float)"
   ]
  },
  {
   "cell_type": "code",
   "execution_count": 19,
   "id": "8433487c",
   "metadata": {},
   "outputs": [],
   "source": [
    "#Extract unit ('M' or 'K') from 'Size'\n",
    "df['Size_Unit'] = df['Size'].str.extract(r'([MK])')"
   ]
  },
  {
   "cell_type": "code",
   "execution_count": 20,
   "id": "494242ab",
   "metadata": {},
   "outputs": [],
   "source": [
    "# Convert MB (M) to KB (1M = 1024K)\n",
    "df.loc[df['Size_Unit'] == 'M', 'Size_Value'] *= 1024 "
   ]
  },
  {
   "cell_type": "code",
   "execution_count": 21,
   "id": "14a0587a",
   "metadata": {},
   "outputs": [
    {
     "data": {
      "text/plain": [
       "0    M\n",
       "1    M\n",
       "2    M\n",
       "3    M\n",
       "4    M\n",
       "Name: Size_Unit, dtype: object"
      ]
     },
     "execution_count": 21,
     "metadata": {},
     "output_type": "execute_result"
    }
   ],
   "source": [
    "df['Size_Unit'].head()"
   ]
  },
  {
   "cell_type": "code",
   "execution_count": 22,
   "id": "2e409b47",
   "metadata": {
    "scrolled": false
   },
   "outputs": [
    {
     "data": {
      "text/plain": [
       "0    19456.0\n",
       "1    14336.0\n",
       "2     8908.8\n",
       "3    25600.0\n",
       "4     2867.2\n",
       "Name: Size_Value, dtype: float64"
      ]
     },
     "execution_count": 22,
     "metadata": {},
     "output_type": "execute_result"
    }
   ],
   "source": [
    "df['Size_Value'].head()"
   ]
  },
  {
   "cell_type": "code",
   "execution_count": 23,
   "id": "c577ea19",
   "metadata": {},
   "outputs": [],
   "source": [
    "# Extract numeric values from the 'Size' column and convert them to float\n",
    "df['Size'] = df['Size'].str.extract(r'([\\d.]+)').astype(float)"
   ]
  },
  {
   "cell_type": "code",
   "execution_count": 24,
   "id": "e35b05f3",
   "metadata": {},
   "outputs": [
    {
     "name": "stdout",
     "output_type": "stream",
     "text": [
      "<class 'pandas.core.series.Series'>\n",
      "Int64Index: 10358 entries, 0 to 10840\n",
      "Series name: Size\n",
      "Non-Null Count  Dtype  \n",
      "--------------  -----  \n",
      "8832 non-null   float64\n",
      "dtypes: float64(1)\n",
      "memory usage: 161.8 KB\n"
     ]
    }
   ],
   "source": [
    "df['Size'].info()"
   ]
  },
  {
   "cell_type": "code",
   "execution_count": 25,
   "id": "87713d87",
   "metadata": {},
   "outputs": [
    {
     "data": {
      "text/plain": [
       "0    19456.0\n",
       "1    14336.0\n",
       "2     8908.8\n",
       "3    25600.0\n",
       "4     2867.2\n",
       "Name: Size_Value, dtype: float64"
      ]
     },
     "execution_count": 25,
     "metadata": {},
     "output_type": "execute_result"
    }
   ],
   "source": [
    "df['Size_Value'].head()"
   ]
  },
  {
   "cell_type": "code",
   "execution_count": 26,
   "id": "ed7ff32c",
   "metadata": {},
   "outputs": [
    {
     "name": "stdout",
     "output_type": "stream",
     "text": [
      "<class 'pandas.core.series.Series'>\n",
      "Int64Index: 10358 entries, 0 to 10840\n",
      "Series name: Size\n",
      "Non-Null Count  Dtype  \n",
      "--------------  -----  \n",
      "8832 non-null   float64\n",
      "dtypes: float64(1)\n",
      "memory usage: 161.8 KB\n"
     ]
    }
   ],
   "source": [
    "df['Size'].info()"
   ]
  },
  {
   "cell_type": "code",
   "execution_count": 27,
   "id": "b7e963f1",
   "metadata": {},
   "outputs": [
    {
     "data": {
      "text/html": [
       "<div>\n",
       "<style scoped>\n",
       "    .dataframe tbody tr th:only-of-type {\n",
       "        vertical-align: middle;\n",
       "    }\n",
       "\n",
       "    .dataframe tbody tr th {\n",
       "        vertical-align: top;\n",
       "    }\n",
       "\n",
       "    .dataframe thead th {\n",
       "        text-align: right;\n",
       "    }\n",
       "</style>\n",
       "<table border=\"1\" class=\"dataframe\">\n",
       "  <thead>\n",
       "    <tr style=\"text-align: right;\">\n",
       "      <th></th>\n",
       "      <th>App</th>\n",
       "      <th>Category</th>\n",
       "      <th>Rating</th>\n",
       "      <th>Reviews</th>\n",
       "      <th>Size</th>\n",
       "      <th>Installs</th>\n",
       "      <th>Type</th>\n",
       "      <th>Price</th>\n",
       "      <th>Content Rating</th>\n",
       "      <th>Genres</th>\n",
       "      <th>Last Updated</th>\n",
       "      <th>Current Ver</th>\n",
       "      <th>Android Ver</th>\n",
       "      <th>Size_Value</th>\n",
       "      <th>Size_Unit</th>\n",
       "    </tr>\n",
       "  </thead>\n",
       "  <tbody>\n",
       "    <tr>\n",
       "      <th>0</th>\n",
       "      <td>Photo Editor &amp; Candy Camera &amp; Grid &amp; ScrapBook</td>\n",
       "      <td>ART_AND_DESIGN</td>\n",
       "      <td>4.1</td>\n",
       "      <td>159</td>\n",
       "      <td>19.0</td>\n",
       "      <td>10,000+</td>\n",
       "      <td>Free</td>\n",
       "      <td>0</td>\n",
       "      <td>Everyone</td>\n",
       "      <td>Art &amp; Design</td>\n",
       "      <td>January 7, 2018</td>\n",
       "      <td>1.0.0</td>\n",
       "      <td>4.0.3 and up</td>\n",
       "      <td>19456.0</td>\n",
       "      <td>M</td>\n",
       "    </tr>\n",
       "    <tr>\n",
       "      <th>1</th>\n",
       "      <td>Coloring book moana</td>\n",
       "      <td>ART_AND_DESIGN</td>\n",
       "      <td>3.9</td>\n",
       "      <td>967</td>\n",
       "      <td>14.0</td>\n",
       "      <td>500,000+</td>\n",
       "      <td>Free</td>\n",
       "      <td>0</td>\n",
       "      <td>Everyone</td>\n",
       "      <td>Art &amp; Design;Pretend Play</td>\n",
       "      <td>January 15, 2018</td>\n",
       "      <td>2.0.0</td>\n",
       "      <td>4.0.3 and up</td>\n",
       "      <td>14336.0</td>\n",
       "      <td>M</td>\n",
       "    </tr>\n",
       "    <tr>\n",
       "      <th>2</th>\n",
       "      <td>U Launcher Lite – FREE Live Cool Themes, Hide ...</td>\n",
       "      <td>ART_AND_DESIGN</td>\n",
       "      <td>4.7</td>\n",
       "      <td>87510</td>\n",
       "      <td>8.7</td>\n",
       "      <td>5,000,000+</td>\n",
       "      <td>Free</td>\n",
       "      <td>0</td>\n",
       "      <td>Everyone</td>\n",
       "      <td>Art &amp; Design</td>\n",
       "      <td>August 1, 2018</td>\n",
       "      <td>1.2.4</td>\n",
       "      <td>4.0.3 and up</td>\n",
       "      <td>8908.8</td>\n",
       "      <td>M</td>\n",
       "    </tr>\n",
       "    <tr>\n",
       "      <th>3</th>\n",
       "      <td>Sketch - Draw &amp; Paint</td>\n",
       "      <td>ART_AND_DESIGN</td>\n",
       "      <td>4.5</td>\n",
       "      <td>215644</td>\n",
       "      <td>25.0</td>\n",
       "      <td>50,000,000+</td>\n",
       "      <td>Free</td>\n",
       "      <td>0</td>\n",
       "      <td>Teen</td>\n",
       "      <td>Art &amp; Design</td>\n",
       "      <td>June 8, 2018</td>\n",
       "      <td>Varies with device</td>\n",
       "      <td>4.2 and up</td>\n",
       "      <td>25600.0</td>\n",
       "      <td>M</td>\n",
       "    </tr>\n",
       "    <tr>\n",
       "      <th>4</th>\n",
       "      <td>Pixel Draw - Number Art Coloring Book</td>\n",
       "      <td>ART_AND_DESIGN</td>\n",
       "      <td>4.3</td>\n",
       "      <td>967</td>\n",
       "      <td>2.8</td>\n",
       "      <td>100,000+</td>\n",
       "      <td>Free</td>\n",
       "      <td>0</td>\n",
       "      <td>Everyone</td>\n",
       "      <td>Art &amp; Design;Creativity</td>\n",
       "      <td>June 20, 2018</td>\n",
       "      <td>1.1</td>\n",
       "      <td>4.4 and up</td>\n",
       "      <td>2867.2</td>\n",
       "      <td>M</td>\n",
       "    </tr>\n",
       "    <tr>\n",
       "      <th>5</th>\n",
       "      <td>Paper flowers instructions</td>\n",
       "      <td>ART_AND_DESIGN</td>\n",
       "      <td>4.4</td>\n",
       "      <td>167</td>\n",
       "      <td>5.6</td>\n",
       "      <td>50,000+</td>\n",
       "      <td>Free</td>\n",
       "      <td>0</td>\n",
       "      <td>Everyone</td>\n",
       "      <td>Art &amp; Design</td>\n",
       "      <td>March 26, 2017</td>\n",
       "      <td>1.0</td>\n",
       "      <td>2.3 and up</td>\n",
       "      <td>5734.4</td>\n",
       "      <td>M</td>\n",
       "    </tr>\n",
       "    <tr>\n",
       "      <th>6</th>\n",
       "      <td>Smoke Effect Photo Maker - Smoke Editor</td>\n",
       "      <td>ART_AND_DESIGN</td>\n",
       "      <td>3.8</td>\n",
       "      <td>178</td>\n",
       "      <td>19.0</td>\n",
       "      <td>50,000+</td>\n",
       "      <td>Free</td>\n",
       "      <td>0</td>\n",
       "      <td>Everyone</td>\n",
       "      <td>Art &amp; Design</td>\n",
       "      <td>April 26, 2018</td>\n",
       "      <td>1.1</td>\n",
       "      <td>4.0.3 and up</td>\n",
       "      <td>19456.0</td>\n",
       "      <td>M</td>\n",
       "    </tr>\n",
       "    <tr>\n",
       "      <th>7</th>\n",
       "      <td>Infinite Painter</td>\n",
       "      <td>ART_AND_DESIGN</td>\n",
       "      <td>4.1</td>\n",
       "      <td>36815</td>\n",
       "      <td>29.0</td>\n",
       "      <td>1,000,000+</td>\n",
       "      <td>Free</td>\n",
       "      <td>0</td>\n",
       "      <td>Everyone</td>\n",
       "      <td>Art &amp; Design</td>\n",
       "      <td>June 14, 2018</td>\n",
       "      <td>6.1.61.1</td>\n",
       "      <td>4.2 and up</td>\n",
       "      <td>29696.0</td>\n",
       "      <td>M</td>\n",
       "    </tr>\n",
       "    <tr>\n",
       "      <th>8</th>\n",
       "      <td>Garden Coloring Book</td>\n",
       "      <td>ART_AND_DESIGN</td>\n",
       "      <td>4.4</td>\n",
       "      <td>13791</td>\n",
       "      <td>33.0</td>\n",
       "      <td>1,000,000+</td>\n",
       "      <td>Free</td>\n",
       "      <td>0</td>\n",
       "      <td>Everyone</td>\n",
       "      <td>Art &amp; Design</td>\n",
       "      <td>September 20, 2017</td>\n",
       "      <td>2.9.2</td>\n",
       "      <td>3.0 and up</td>\n",
       "      <td>33792.0</td>\n",
       "      <td>M</td>\n",
       "    </tr>\n",
       "    <tr>\n",
       "      <th>9</th>\n",
       "      <td>Kids Paint Free - Drawing Fun</td>\n",
       "      <td>ART_AND_DESIGN</td>\n",
       "      <td>4.7</td>\n",
       "      <td>121</td>\n",
       "      <td>3.1</td>\n",
       "      <td>10,000+</td>\n",
       "      <td>Free</td>\n",
       "      <td>0</td>\n",
       "      <td>Everyone</td>\n",
       "      <td>Art &amp; Design;Creativity</td>\n",
       "      <td>July 3, 2018</td>\n",
       "      <td>2.8</td>\n",
       "      <td>4.0.3 and up</td>\n",
       "      <td>3174.4</td>\n",
       "      <td>M</td>\n",
       "    </tr>\n",
       "  </tbody>\n",
       "</table>\n",
       "</div>"
      ],
      "text/plain": [
       "                                                 App        Category  Rating  \\\n",
       "0     Photo Editor & Candy Camera & Grid & ScrapBook  ART_AND_DESIGN     4.1   \n",
       "1                                Coloring book moana  ART_AND_DESIGN     3.9   \n",
       "2  U Launcher Lite – FREE Live Cool Themes, Hide ...  ART_AND_DESIGN     4.7   \n",
       "3                              Sketch - Draw & Paint  ART_AND_DESIGN     4.5   \n",
       "4              Pixel Draw - Number Art Coloring Book  ART_AND_DESIGN     4.3   \n",
       "5                         Paper flowers instructions  ART_AND_DESIGN     4.4   \n",
       "6            Smoke Effect Photo Maker - Smoke Editor  ART_AND_DESIGN     3.8   \n",
       "7                                   Infinite Painter  ART_AND_DESIGN     4.1   \n",
       "8                               Garden Coloring Book  ART_AND_DESIGN     4.4   \n",
       "9                      Kids Paint Free - Drawing Fun  ART_AND_DESIGN     4.7   \n",
       "\n",
       "  Reviews  Size     Installs  Type Price Content Rating  \\\n",
       "0     159  19.0      10,000+  Free     0       Everyone   \n",
       "1     967  14.0     500,000+  Free     0       Everyone   \n",
       "2   87510   8.7   5,000,000+  Free     0       Everyone   \n",
       "3  215644  25.0  50,000,000+  Free     0           Teen   \n",
       "4     967   2.8     100,000+  Free     0       Everyone   \n",
       "5     167   5.6      50,000+  Free     0       Everyone   \n",
       "6     178  19.0      50,000+  Free     0       Everyone   \n",
       "7   36815  29.0   1,000,000+  Free     0       Everyone   \n",
       "8   13791  33.0   1,000,000+  Free     0       Everyone   \n",
       "9     121   3.1      10,000+  Free     0       Everyone   \n",
       "\n",
       "                      Genres        Last Updated         Current Ver  \\\n",
       "0               Art & Design     January 7, 2018               1.0.0   \n",
       "1  Art & Design;Pretend Play    January 15, 2018               2.0.0   \n",
       "2               Art & Design      August 1, 2018               1.2.4   \n",
       "3               Art & Design        June 8, 2018  Varies with device   \n",
       "4    Art & Design;Creativity       June 20, 2018                 1.1   \n",
       "5               Art & Design      March 26, 2017                 1.0   \n",
       "6               Art & Design      April 26, 2018                 1.1   \n",
       "7               Art & Design       June 14, 2018            6.1.61.1   \n",
       "8               Art & Design  September 20, 2017               2.9.2   \n",
       "9    Art & Design;Creativity        July 3, 2018                 2.8   \n",
       "\n",
       "    Android Ver  Size_Value Size_Unit  \n",
       "0  4.0.3 and up     19456.0         M  \n",
       "1  4.0.3 and up     14336.0         M  \n",
       "2  4.0.3 and up      8908.8         M  \n",
       "3    4.2 and up     25600.0         M  \n",
       "4    4.4 and up      2867.2         M  \n",
       "5    2.3 and up      5734.4         M  \n",
       "6  4.0.3 and up     19456.0         M  \n",
       "7    4.2 and up     29696.0         M  \n",
       "8    3.0 and up     33792.0         M  \n",
       "9  4.0.3 and up      3174.4         M  "
      ]
     },
     "execution_count": 27,
     "metadata": {},
     "output_type": "execute_result"
    }
   ],
   "source": [
    "# Fill missing values with the median size within each category (Group by Category)\n",
    "df['Size_Value'] = df['Size_Value'].fillna(df['Size_Value'].median())\n",
    "\n",
    "# Print the first 10 rows to verify the changes\n",
    "df.head(10)"
   ]
  },
  {
   "cell_type": "code",
   "execution_count": 28,
   "id": "b4fc0147",
   "metadata": {},
   "outputs": [],
   "source": [
    "df['Size'] = df['Size'].fillna(df['Size'].median())"
   ]
  },
  {
   "cell_type": "markdown",
   "id": "6f9393d7",
   "metadata": {},
   "source": [
    "# Fix Price"
   ]
  },
  {
   "cell_type": "code",
   "execution_count": 29,
   "id": "78fd252d",
   "metadata": {},
   "outputs": [],
   "source": [
    "df['Price']= df['Price'].str.extract(r'([\\d.]+)').astype(float)"
   ]
  },
  {
   "cell_type": "code",
   "execution_count": 30,
   "id": "9b7ea53f",
   "metadata": {},
   "outputs": [],
   "source": [
    "df['Price'].fillna(df['Price'].mean(), inplace=True)"
   ]
  },
  {
   "cell_type": "code",
   "execution_count": 31,
   "id": "5e324d43",
   "metadata": {},
   "outputs": [
    {
     "data": {
      "text/plain": [
       "0"
      ]
     },
     "execution_count": 31,
     "metadata": {},
     "output_type": "execute_result"
    }
   ],
   "source": [
    "df['Price'].isnull().sum()"
   ]
  },
  {
   "cell_type": "code",
   "execution_count": 32,
   "id": "676a6961",
   "metadata": {},
   "outputs": [
    {
     "name": "stdout",
     "output_type": "stream",
     "text": [
      "<class 'pandas.core.series.Series'>\n",
      "Int64Index: 10358 entries, 0 to 10840\n",
      "Series name: Price\n",
      "Non-Null Count  Dtype  \n",
      "--------------  -----  \n",
      "10358 non-null  float64\n",
      "dtypes: float64(1)\n",
      "memory usage: 161.8 KB\n"
     ]
    }
   ],
   "source": [
    "df['Price'].info()"
   ]
  },
  {
   "cell_type": "markdown",
   "id": "1c54caa8",
   "metadata": {},
   "source": [
    "# Fix Category"
   ]
  },
  {
   "cell_type": "code",
   "execution_count": 33,
   "id": "fcc1a44b",
   "metadata": {},
   "outputs": [],
   "source": [
    "# Fill missing values with the most common category (mode)\n",
    "df['Category'].fillna(df['Category'].mode()[0], inplace=True)\n",
    "# Convert all category names to lowercase to ensure consistency\n",
    "df['Category'] = df['Category'].str.strip().str.lower()"
   ]
  },
  {
   "cell_type": "code",
   "execution_count": 34,
   "id": "9bceffda",
   "metadata": {
    "scrolled": true
   },
   "outputs": [
    {
     "data": {
      "text/plain": [
       "0    art_and_design\n",
       "1    art_and_design\n",
       "2    art_and_design\n",
       "3    art_and_design\n",
       "4    art_and_design\n",
       "Name: Category, dtype: object"
      ]
     },
     "execution_count": 34,
     "metadata": {},
     "output_type": "execute_result"
    }
   ],
   "source": [
    "df['Category'].head()"
   ]
  },
  {
   "cell_type": "code",
   "execution_count": 35,
   "id": "0f554750",
   "metadata": {},
   "outputs": [
    {
     "data": {
      "text/html": [
       "<div>\n",
       "<style scoped>\n",
       "    .dataframe tbody tr th:only-of-type {\n",
       "        vertical-align: middle;\n",
       "    }\n",
       "\n",
       "    .dataframe tbody tr th {\n",
       "        vertical-align: top;\n",
       "    }\n",
       "\n",
       "    .dataframe thead th {\n",
       "        text-align: right;\n",
       "    }\n",
       "</style>\n",
       "<table border=\"1\" class=\"dataframe\">\n",
       "  <thead>\n",
       "    <tr style=\"text-align: right;\">\n",
       "      <th></th>\n",
       "      <th>App</th>\n",
       "      <th>Category</th>\n",
       "      <th>Rating</th>\n",
       "      <th>Reviews</th>\n",
       "      <th>Size</th>\n",
       "      <th>Installs</th>\n",
       "      <th>Type</th>\n",
       "      <th>Price</th>\n",
       "      <th>Content Rating</th>\n",
       "      <th>Genres</th>\n",
       "      <th>Last Updated</th>\n",
       "      <th>Current Ver</th>\n",
       "      <th>Android Ver</th>\n",
       "      <th>Size_Value</th>\n",
       "      <th>Size_Unit</th>\n",
       "    </tr>\n",
       "  </thead>\n",
       "  <tbody>\n",
       "    <tr>\n",
       "      <th>0</th>\n",
       "      <td>Photo Editor &amp; Candy Camera &amp; Grid &amp; ScrapBook</td>\n",
       "      <td>art_and_design</td>\n",
       "      <td>4.1</td>\n",
       "      <td>159</td>\n",
       "      <td>19.0</td>\n",
       "      <td>10,000+</td>\n",
       "      <td>Free</td>\n",
       "      <td>0.0</td>\n",
       "      <td>Everyone</td>\n",
       "      <td>Art &amp; Design</td>\n",
       "      <td>January 7, 2018</td>\n",
       "      <td>1.0.0</td>\n",
       "      <td>4.0.3 and up</td>\n",
       "      <td>19456.0</td>\n",
       "      <td>M</td>\n",
       "    </tr>\n",
       "    <tr>\n",
       "      <th>1</th>\n",
       "      <td>Coloring book moana</td>\n",
       "      <td>art_and_design</td>\n",
       "      <td>3.9</td>\n",
       "      <td>967</td>\n",
       "      <td>14.0</td>\n",
       "      <td>500,000+</td>\n",
       "      <td>Free</td>\n",
       "      <td>0.0</td>\n",
       "      <td>Everyone</td>\n",
       "      <td>Art &amp; Design;Pretend Play</td>\n",
       "      <td>January 15, 2018</td>\n",
       "      <td>2.0.0</td>\n",
       "      <td>4.0.3 and up</td>\n",
       "      <td>14336.0</td>\n",
       "      <td>M</td>\n",
       "    </tr>\n",
       "    <tr>\n",
       "      <th>2</th>\n",
       "      <td>U Launcher Lite – FREE Live Cool Themes, Hide ...</td>\n",
       "      <td>art_and_design</td>\n",
       "      <td>4.7</td>\n",
       "      <td>87510</td>\n",
       "      <td>8.7</td>\n",
       "      <td>5,000,000+</td>\n",
       "      <td>Free</td>\n",
       "      <td>0.0</td>\n",
       "      <td>Everyone</td>\n",
       "      <td>Art &amp; Design</td>\n",
       "      <td>August 1, 2018</td>\n",
       "      <td>1.2.4</td>\n",
       "      <td>4.0.3 and up</td>\n",
       "      <td>8908.8</td>\n",
       "      <td>M</td>\n",
       "    </tr>\n",
       "    <tr>\n",
       "      <th>3</th>\n",
       "      <td>Sketch - Draw &amp; Paint</td>\n",
       "      <td>art_and_design</td>\n",
       "      <td>4.5</td>\n",
       "      <td>215644</td>\n",
       "      <td>25.0</td>\n",
       "      <td>50,000,000+</td>\n",
       "      <td>Free</td>\n",
       "      <td>0.0</td>\n",
       "      <td>Teen</td>\n",
       "      <td>Art &amp; Design</td>\n",
       "      <td>June 8, 2018</td>\n",
       "      <td>Varies with device</td>\n",
       "      <td>4.2 and up</td>\n",
       "      <td>25600.0</td>\n",
       "      <td>M</td>\n",
       "    </tr>\n",
       "    <tr>\n",
       "      <th>4</th>\n",
       "      <td>Pixel Draw - Number Art Coloring Book</td>\n",
       "      <td>art_and_design</td>\n",
       "      <td>4.3</td>\n",
       "      <td>967</td>\n",
       "      <td>2.8</td>\n",
       "      <td>100,000+</td>\n",
       "      <td>Free</td>\n",
       "      <td>0.0</td>\n",
       "      <td>Everyone</td>\n",
       "      <td>Art &amp; Design;Creativity</td>\n",
       "      <td>June 20, 2018</td>\n",
       "      <td>1.1</td>\n",
       "      <td>4.4 and up</td>\n",
       "      <td>2867.2</td>\n",
       "      <td>M</td>\n",
       "    </tr>\n",
       "  </tbody>\n",
       "</table>\n",
       "</div>"
      ],
      "text/plain": [
       "                                                 App        Category  Rating  \\\n",
       "0     Photo Editor & Candy Camera & Grid & ScrapBook  art_and_design     4.1   \n",
       "1                                Coloring book moana  art_and_design     3.9   \n",
       "2  U Launcher Lite – FREE Live Cool Themes, Hide ...  art_and_design     4.7   \n",
       "3                              Sketch - Draw & Paint  art_and_design     4.5   \n",
       "4              Pixel Draw - Number Art Coloring Book  art_and_design     4.3   \n",
       "\n",
       "  Reviews  Size     Installs  Type  Price Content Rating  \\\n",
       "0     159  19.0      10,000+  Free    0.0       Everyone   \n",
       "1     967  14.0     500,000+  Free    0.0       Everyone   \n",
       "2   87510   8.7   5,000,000+  Free    0.0       Everyone   \n",
       "3  215644  25.0  50,000,000+  Free    0.0           Teen   \n",
       "4     967   2.8     100,000+  Free    0.0       Everyone   \n",
       "\n",
       "                      Genres      Last Updated         Current Ver  \\\n",
       "0               Art & Design   January 7, 2018               1.0.0   \n",
       "1  Art & Design;Pretend Play  January 15, 2018               2.0.0   \n",
       "2               Art & Design    August 1, 2018               1.2.4   \n",
       "3               Art & Design      June 8, 2018  Varies with device   \n",
       "4    Art & Design;Creativity     June 20, 2018                 1.1   \n",
       "\n",
       "    Android Ver  Size_Value Size_Unit  \n",
       "0  4.0.3 and up     19456.0         M  \n",
       "1  4.0.3 and up     14336.0         M  \n",
       "2  4.0.3 and up      8908.8         M  \n",
       "3    4.2 and up     25600.0         M  \n",
       "4    4.4 and up      2867.2         M  "
      ]
     },
     "execution_count": 35,
     "metadata": {},
     "output_type": "execute_result"
    }
   ],
   "source": [
    "df.head()"
   ]
  },
  {
   "cell_type": "markdown",
   "id": "ffd18da9",
   "metadata": {},
   "source": [
    "# Fix Android Version"
   ]
  },
  {
   "cell_type": "code",
   "execution_count": 36,
   "id": "8eaac254",
   "metadata": {
    "scrolled": true
   },
   "outputs": [
    {
     "name": "stdout",
     "output_type": "stream",
     "text": [
      "<class 'pandas.core.series.Series'>\n",
      "Int64Index: 10358 entries, 0 to 10840\n",
      "Series name: Android Ver\n",
      "Non-Null Count  Dtype \n",
      "--------------  ----- \n",
      "10355 non-null  object\n",
      "dtypes: object(1)\n",
      "memory usage: 161.8+ KB\n"
     ]
    }
   ],
   "source": [
    "df['Android Ver'].info()"
   ]
  },
  {
   "cell_type": "code",
   "execution_count": 37,
   "id": "65390a95",
   "metadata": {},
   "outputs": [],
   "source": [
    "df['Android Ver'] = df['Android Ver'].apply(lambda x: x.split('and')[0] if isinstance(x, str) else x)"
   ]
  },
  {
   "cell_type": "code",
   "execution_count": 38,
   "id": "8a760eb5",
   "metadata": {
    "scrolled": true
   },
   "outputs": [
    {
     "data": {
      "text/plain": [
       "0    4.0.3 \n",
       "1    4.0.3 \n",
       "2    4.0.3 \n",
       "3      4.2 \n",
       "4      4.4 \n",
       "Name: Android Ver, dtype: object"
      ]
     },
     "execution_count": 38,
     "metadata": {},
     "output_type": "execute_result"
    }
   ],
   "source": [
    "df['Android Ver'].head()"
   ]
  },
  {
   "cell_type": "code",
   "execution_count": 39,
   "id": "c7809a67",
   "metadata": {},
   "outputs": [
    {
     "name": "stdout",
     "output_type": "stream",
     "text": [
      "<class 'pandas.core.series.Series'>\n",
      "Int64Index: 10358 entries, 0 to 10840\n",
      "Series name: Android Ver\n",
      "Non-Null Count  Dtype \n",
      "--------------  ----- \n",
      "10355 non-null  object\n",
      "dtypes: object(1)\n",
      "memory usage: 161.8+ KB\n"
     ]
    }
   ],
   "source": [
    "df['Android Ver'].info()"
   ]
  },
  {
   "cell_type": "code",
   "execution_count": 40,
   "id": "e1ba90b7",
   "metadata": {},
   "outputs": [
    {
     "data": {
      "text/html": [
       "<div>\n",
       "<style scoped>\n",
       "    .dataframe tbody tr th:only-of-type {\n",
       "        vertical-align: middle;\n",
       "    }\n",
       "\n",
       "    .dataframe tbody tr th {\n",
       "        vertical-align: top;\n",
       "    }\n",
       "\n",
       "    .dataframe thead th {\n",
       "        text-align: right;\n",
       "    }\n",
       "</style>\n",
       "<table border=\"1\" class=\"dataframe\">\n",
       "  <thead>\n",
       "    <tr style=\"text-align: right;\">\n",
       "      <th></th>\n",
       "      <th>Android Ver</th>\n",
       "    </tr>\n",
       "  </thead>\n",
       "  <tbody>\n",
       "    <tr>\n",
       "      <th>0</th>\n",
       "      <td>4.0.3</td>\n",
       "    </tr>\n",
       "    <tr>\n",
       "      <th>1</th>\n",
       "      <td>4.0.3</td>\n",
       "    </tr>\n",
       "    <tr>\n",
       "      <th>2</th>\n",
       "      <td>4.0.3</td>\n",
       "    </tr>\n",
       "    <tr>\n",
       "      <th>3</th>\n",
       "      <td>4.2</td>\n",
       "    </tr>\n",
       "    <tr>\n",
       "      <th>4</th>\n",
       "      <td>4.4</td>\n",
       "    </tr>\n",
       "  </tbody>\n",
       "</table>\n",
       "</div>"
      ],
      "text/plain": [
       "  Android Ver\n",
       "0      4.0.3 \n",
       "1      4.0.3 \n",
       "2      4.0.3 \n",
       "3        4.2 \n",
       "4        4.4 "
      ]
     },
     "execution_count": 40,
     "metadata": {},
     "output_type": "execute_result"
    }
   ],
   "source": [
    "df[['Android Ver']].head()"
   ]
  },
  {
   "cell_type": "markdown",
   "id": "ee1dd86f",
   "metadata": {},
   "source": [
    "# \tHandle Missing Values"
   ]
  },
  {
   "cell_type": "code",
   "execution_count": 41,
   "id": "6477ba0d",
   "metadata": {},
   "outputs": [
    {
     "data": {
      "text/plain": [
       "0"
      ]
     },
     "execution_count": 41,
     "metadata": {},
     "output_type": "execute_result"
    }
   ],
   "source": [
    "#App\n",
    "df['App'].isnull().sum()"
   ]
  },
  {
   "cell_type": "code",
   "execution_count": 42,
   "id": "2a3133a6",
   "metadata": {},
   "outputs": [
    {
     "data": {
      "text/plain": [
       "0"
      ]
     },
     "execution_count": 42,
     "metadata": {},
     "output_type": "execute_result"
    }
   ],
   "source": [
    "df['Category'].isnull().sum()"
   ]
  },
  {
   "cell_type": "code",
   "execution_count": 43,
   "id": "ff6dd597",
   "metadata": {},
   "outputs": [
    {
     "data": {
      "text/plain": [
       "App                  0\n",
       "Category             0\n",
       "Rating               0\n",
       "Reviews              0\n",
       "Size                 0\n",
       "Installs             0\n",
       "Type                 1\n",
       "Price                0\n",
       "Content Rating       1\n",
       "Genres               0\n",
       "Last Updated         0\n",
       "Current Ver          8\n",
       "Android Ver          3\n",
       "Size_Value           0\n",
       "Size_Unit         1842\n",
       "dtype: int64"
      ]
     },
     "execution_count": 43,
     "metadata": {},
     "output_type": "execute_result"
    }
   ],
   "source": [
    "df.isnull().sum()"
   ]
  },
  {
   "cell_type": "code",
   "execution_count": 44,
   "id": "99c645e6",
   "metadata": {},
   "outputs": [],
   "source": [
    "df.dropna(inplace=True)"
   ]
  },
  {
   "cell_type": "code",
   "execution_count": 45,
   "id": "9e300f6f",
   "metadata": {},
   "outputs": [
    {
     "data": {
      "text/plain": [
       "App               0\n",
       "Category          0\n",
       "Rating            0\n",
       "Reviews           0\n",
       "Size              0\n",
       "Installs          0\n",
       "Type              0\n",
       "Price             0\n",
       "Content Rating    0\n",
       "Genres            0\n",
       "Last Updated      0\n",
       "Current Ver       0\n",
       "Android Ver       0\n",
       "Size_Value        0\n",
       "Size_Unit         0\n",
       "dtype: int64"
      ]
     },
     "execution_count": 45,
     "metadata": {},
     "output_type": "execute_result"
    }
   ],
   "source": [
    "df.isnull().sum()"
   ]
  },
  {
   "cell_type": "code",
   "execution_count": 46,
   "id": "be532443",
   "metadata": {},
   "outputs": [
    {
     "name": "stdout",
     "output_type": "stream",
     "text": [
      "<class 'pandas.core.frame.DataFrame'>\n",
      "Int64Index: 8510 entries, 0 to 10840\n",
      "Data columns (total 15 columns):\n",
      " #   Column          Non-Null Count  Dtype  \n",
      "---  ------          --------------  -----  \n",
      " 0   App             8510 non-null   object \n",
      " 1   Category        8510 non-null   object \n",
      " 2   Rating          8510 non-null   float64\n",
      " 3   Reviews         8510 non-null   object \n",
      " 4   Size            8510 non-null   float64\n",
      " 5   Installs        8510 non-null   object \n",
      " 6   Type            8510 non-null   object \n",
      " 7   Price           8510 non-null   float64\n",
      " 8   Content Rating  8510 non-null   object \n",
      " 9   Genres          8510 non-null   object \n",
      " 10  Last Updated    8510 non-null   object \n",
      " 11  Current Ver     8510 non-null   object \n",
      " 12  Android Ver     8510 non-null   object \n",
      " 13  Size_Value      8510 non-null   float64\n",
      " 14  Size_Unit       8510 non-null   object \n",
      "dtypes: float64(4), object(11)\n",
      "memory usage: 1.0+ MB\n"
     ]
    }
   ],
   "source": [
    "df.info()"
   ]
  },
  {
   "cell_type": "markdown",
   "id": "d826f146",
   "metadata": {},
   "source": [
    "# Fix anything need fixing "
   ]
  },
  {
   "cell_type": "code",
   "execution_count": 47,
   "id": "5ddfcf3f",
   "metadata": {},
   "outputs": [],
   "source": [
    "#convert from object to int\n",
    "df['Reviews'] = df['Reviews'].astype(int)"
   ]
  },
  {
   "cell_type": "code",
   "execution_count": 48,
   "id": "ff617ec0",
   "metadata": {},
   "outputs": [
    {
     "data": {
      "text/plain": [
       "0"
      ]
     },
     "execution_count": 48,
     "metadata": {},
     "output_type": "execute_result"
    }
   ],
   "source": [
    "df['Reviews'].isnull().sum()"
   ]
  },
  {
   "cell_type": "code",
   "execution_count": 49,
   "id": "2a52979e",
   "metadata": {},
   "outputs": [],
   "source": [
    "#convert from object to int\n",
    "df['Installs'] = df['Installs'].str.replace('[+,]', '', regex=True).astype(int)"
   ]
  },
  {
   "cell_type": "code",
   "execution_count": 50,
   "id": "cf1caa32",
   "metadata": {},
   "outputs": [
    {
     "data": {
      "text/plain": [
       "0"
      ]
     },
     "execution_count": 50,
     "metadata": {},
     "output_type": "execute_result"
    }
   ],
   "source": [
    "df['Installs'].isnull().sum()"
   ]
  },
  {
   "cell_type": "code",
   "execution_count": 51,
   "id": "fadd5ee1",
   "metadata": {},
   "outputs": [],
   "source": [
    "Q1 = df['Reviews'].quantile(0.25)\n",
    "Q3 = df['Reviews'].quantile(0.75)\n",
    "IQR = Q3 - Q1\n",
    "\n",
    "lower_bound = Q1 - 1.5 * IQR\n",
    "upper_bound = Q3 + 1.5 * IQR\n",
    "\n",
    "# replace outliers by median\n",
    "median_reviews = df['Reviews'].median()\n",
    "df['Reviews'] = df['Reviews'].mask((df['Reviews'] < lower_bound) | (df['Reviews'] > upper_bound), median_reviews)\n"
   ]
  },
  {
   "cell_type": "code",
   "execution_count": 52,
   "id": "e91f5f66",
   "metadata": {},
   "outputs": [
    {
     "name": "stdout",
     "output_type": "stream",
     "text": [
      "                                                     App             Category  \\\n",
      "87                         RST - Sale of cars on the PCT    auto_and_vehicles   \n",
      "159                                       Cloud of Books  books_and_reference   \n",
      "176                                     Free Book Reader  books_and_reference   \n",
      "311    comico Popular Original Cartoon Updated Everyd...               comics   \n",
      "312                        Daily Manga - Comic & Webtoon               comics   \n",
      "...                                                  ...                  ...   \n",
      "10743                                     FP BW LCD View               family   \n",
      "10757                       Fisher-Price® Smart Connect™                tools   \n",
      "10766                             FreedomPop Diagnostics                tools   \n",
      "10819                                          Fanfic-FR  books_and_reference   \n",
      "10828                            Manga-FR - Anime Vostfr               comics   \n",
      "\n",
      "       Rating  Reviews  Size  Installs  Type  Price Content Rating  \\\n",
      "87        3.2      250   1.1    100000  Free    0.0       Everyone   \n",
      "159       3.3     1862  19.0   1000000  Free    0.0       Everyone   \n",
      "176       3.4     1680   4.0    100000  Free    0.0       Everyone   \n",
      "311       3.2      736  15.0   5000000  Free    0.0           Teen   \n",
      "312       3.2     1446   7.1    100000  Free    0.0     Mature 17+   \n",
      "...       ...      ...   ...       ...   ...    ...            ...   \n",
      "10743     3.4       16   1.2       500  Free    0.0       Everyone   \n",
      "10757     2.7      422  72.0     50000  Free    0.0       Everyone   \n",
      "10766     2.9      452   7.0    100000  Free    0.0       Everyone   \n",
      "10819     3.3       52   3.6      5000  Free    0.0           Teen   \n",
      "10828     3.4      291  13.0     10000  Free    0.0       Everyone   \n",
      "\n",
      "                  Genres       Last Updated    Current Ver Android Ver  \\\n",
      "87       Auto & Vehicles     April 27, 2018            1.4      4.0.3    \n",
      "159    Books & Reference     April 27, 2018          2.2.5        4.1    \n",
      "176    Books & Reference    August 20, 2016           3.05      4.0.3    \n",
      "311               Comics       July 3, 2018          6.3.0      4.0.3    \n",
      "312               Comics       May 18, 2018            1.0      4.0.3    \n",
      "...                  ...                ...            ...         ...   \n",
      "10743      Entertainment     March 31, 2016            1.0      4.0.3    \n",
      "10757              Tools  February 23, 2018          2.4.1        4.4    \n",
      "10766              Tools      July 17, 2017  1.03.123.0713      4.0.3    \n",
      "10819  Books & Reference     August 5, 2017          0.3.4        4.1    \n",
      "10828             Comics       May 15, 2017          2.0.1        4.0    \n",
      "\n",
      "       Size_Value Size_Unit  \n",
      "87         1126.4         M  \n",
      "159       19456.0         M  \n",
      "176        4096.0         M  \n",
      "311       15360.0         M  \n",
      "312        7270.4         M  \n",
      "...           ...       ...  \n",
      "10743      1228.8         M  \n",
      "10757     73728.0         M  \n",
      "10766      7168.0         M  \n",
      "10819      3686.4         M  \n",
      "10828     13312.0         M  \n",
      "\n",
      "[643 rows x 15 columns]\n"
     ]
    }
   ],
   "source": [
    "Q1 = df['Rating'].quantile(0.25)\n",
    "Q3 = df['Rating'].quantile(0.75)\n",
    "IQR = Q3 - Q1\n",
    "\n",
    "lower_bound = Q1 - 1.5 * IQR\n",
    "upper_bound = Q3 + 1.5 * IQR\n",
    "outliers = df[(df['Rating'] < lower_bound) | (df['Rating'] > upper_bound)]\n",
    "print(outliers)\n"
   ]
  },
  {
   "cell_type": "markdown",
   "id": "5807ec0e",
   "metadata": {},
   "source": [
    "# Analytical Questions:"
   ]
  },
  {
   "cell_type": "code",
   "execution_count": 53,
   "id": "0ade33c2",
   "metadata": {},
   "outputs": [
    {
     "data": {
      "text/plain": [
       "count    8510.000000\n",
       "mean        1.144521\n",
       "std        17.414951\n",
       "min         0.000000\n",
       "25%         0.000000\n",
       "50%         0.000000\n",
       "75%         0.000000\n",
       "max       400.000000\n",
       "Name: Price, dtype: float64"
      ]
     },
     "execution_count": 53,
     "metadata": {},
     "output_type": "execute_result"
    }
   ],
   "source": [
    "df['Price'].describe() "
   ]
  },
  {
   "cell_type": "code",
   "execution_count": 54,
   "id": "5f68b9c2",
   "metadata": {},
   "outputs": [
    {
     "name": "stdout",
     "output_type": "stream",
     "text": [
      "the most expensive app on the Play Store = 400.0\n"
     ]
    }
   ],
   "source": [
    "#1.What is the most expensive app on the Play Store?\n",
    "max_price = df['Price'].max()\n",
    "print(f\"the most expensive app on the Play Store = {max_price}\")\n"
   ]
  },
  {
   "cell_type": "code",
   "execution_count": 55,
   "id": "fbd8190b",
   "metadata": {},
   "outputs": [
    {
     "name": "stdout",
     "output_type": "stream",
     "text": [
      "The most popular genre is 'Tools' with 658 apps.\n"
     ]
    }
   ],
   "source": [
    "#2.Which genre has the highest number of apps?\n",
    "top_genre = df['Genres'].value_counts().idxmax()  # Get the most popular genre\n",
    "top_genre_count = df['Genres'].value_counts().max()  # Get the number of apps in this genre\n",
    "print(f\"The most popular genre is '{top_genre}' with {top_genre_count} apps.\")"
   ]
  },
  {
   "cell_type": "code",
   "execution_count": 56,
   "id": "8f5c1af9",
   "metadata": {},
   "outputs": [
    {
     "name": "stdout",
     "output_type": "stream",
     "text": [
      "Type\n",
      "Free    22.134753\n",
      "Paid    21.229355\n",
      "Name: Size, dtype: float64\n"
     ]
    }
   ],
   "source": [
    "#3.What is the average size of free vs. paid apps?\n",
    "avg_size = df.groupby('Type')['Size'].mean()\n",
    "print(avg_size)"
   ]
  },
  {
   "cell_type": "code",
   "execution_count": 57,
   "id": "d37387cc",
   "metadata": {},
   "outputs": [
    {
     "name": "stdout",
     "output_type": "stream",
     "text": [
      "                                            App  Price  Rating\n",
      "5489                  AP Art History Flashcards  29.99     5.0\n",
      "7477                 USMLE Step 2 CK Flashcards  19.99     5.0\n",
      "5246                      Hey AJ! It's Bedtime!   4.99     5.0\n",
      "7204  TI-84 CE Graphing Calculator Manual TI 84   4.99     5.0\n",
      "5237                     Hey AJ! It's Saturday!   3.99     5.0\n"
     ]
    }
   ],
   "source": [
    "#4.What are the top 5 most expensive apps with a perfect rating (5)?\n",
    "top_expensive_perfect_apps = df[df['Rating'] == 5.0].sort_values(by='Price', ascending=False).head(5)\n",
    "print(top_expensive_perfect_apps[['App', 'Price', 'Rating']])"
   ]
  },
  {
   "cell_type": "code",
   "execution_count": 58,
   "id": "e1b1398a",
   "metadata": {},
   "outputs": [
    {
     "name": "stdout",
     "output_type": "stream",
     "text": [
      "Number of apps with more than 50K reviews: 122\n"
     ]
    }
   ],
   "source": [
    "#5.How many apps have received more than 50K reviews?\n",
    "num_apps_high_reviews = (df['Reviews'] > 50000).sum()\n",
    "print(\"Number of apps with more than 50K reviews:\", num_apps_high_reviews)"
   ]
  },
  {
   "cell_type": "code",
   "execution_count": 59,
   "id": "71a1d686",
   "metadata": {},
   "outputs": [
    {
     "name": "stdout",
     "output_type": "stream",
     "text": [
      "     Genres  Installs   Price\n",
      "0    Action        10  0.0000\n",
      "1    Action        50  0.9950\n",
      "2    Action       100  1.3700\n",
      "3    Action       500  0.0000\n",
      "4    Action      1000  0.3725\n",
      "..      ...       ...     ...\n",
      "868    Word    100000  0.0000\n",
      "869    Word   1000000  0.0000\n",
      "870    Word   5000000  0.0000\n",
      "871    Word  10000000  0.0000\n",
      "872    Word  50000000  0.0000\n",
      "\n",
      "[873 rows x 3 columns]\n"
     ]
    }
   ],
   "source": [
    "#6.What is the average price of apps, grouped by genre and number of installs?\n",
    "avg_price_by_genre_installs = df.groupby(['Genres', 'Installs'])['Price'].mean().reset_index()\n",
    "print(avg_price_by_genre_installs)"
   ]
  },
  {
   "cell_type": "code",
   "execution_count": 60,
   "id": "c2d37781",
   "metadata": {},
   "outputs": [
    {
     "name": "stdout",
     "output_type": "stream",
     "text": [
      "Number of apps with a rating > 4.7: 550\n",
      "Average price of these apps: 0.42949090909090903\n"
     ]
    }
   ],
   "source": [
    "high_rating_apps = df[df['Rating'] > 4.7]  # Filter apps with a rating higher than 4.7\n",
    "\n",
    "num_high_rating_apps = high_rating_apps.shape[0]  # Count the number of apps\n",
    "avg_price_high_rating = high_rating_apps['Price'].mean()  # Calculate the average price\n",
    "print(\"Number of apps with a rating > 4.7:\", num_high_rating_apps)\n",
    "print(\"Average price of these apps:\", avg_price_high_rating)"
   ]
  },
  {
   "cell_type": "code",
   "execution_count": 61,
   "id": "7ff75dd3",
   "metadata": {},
   "outputs": [
    {
     "name": "stdout",
     "output_type": "stream",
     "text": [
      "Estimated Google revenue from apps with 5M+ installs: $ 2970000.0\n"
     ]
    }
   ],
   "source": [
    "# Filter apps with more than 5,000,000 installs\n",
    "high_installs_apps = df[df['Installs'] >= 5000000]\n",
    "\n",
    "# Calculate total revenue for these apps\n",
    "total_revenue = (high_installs_apps['Price'] * high_installs_apps['Installs']).sum()\n",
    "\n",
    "# Calculate Google's share (30%)\n",
    "google_revenue = total_revenue * 0.30\n",
    "\n",
    "print(\"Estimated Google revenue from apps with 5M+ installs: $\", google_revenue)"
   ]
  },
  {
   "cell_type": "code",
   "execution_count": 62,
   "id": "62b7fefa",
   "metadata": {},
   "outputs": [
    {
     "name": "stdout",
     "output_type": "stream",
     "text": [
      "Min size :Type\n",
      "Free    1.0\n",
      "Paid    1.0\n",
      "Name: Size, dtype: float64 , Max size :Type\n",
      "Free    100.0\n",
      "Paid    100.0\n",
      "Name: Size, dtype: float64\n"
     ]
    }
   ],
   "source": [
    "#9.What are the maximum and minimum sizes of free vs. paid apps?\n",
    "min_size = df.groupby('Type')['Size'].min()\n",
    "max_size = df.groupby('Type')['Size'].max()\n",
    "print(f\"Min size :{min_size} , Max size :{max_size}\")"
   ]
  },
  {
   "cell_type": "code",
   "execution_count": 63,
   "id": "bf476216",
   "metadata": {},
   "outputs": [
    {
     "data": {
      "text/html": [
       "<div>\n",
       "<style scoped>\n",
       "    .dataframe tbody tr th:only-of-type {\n",
       "        vertical-align: middle;\n",
       "    }\n",
       "\n",
       "    .dataframe tbody tr th {\n",
       "        vertical-align: top;\n",
       "    }\n",
       "\n",
       "    .dataframe thead th {\n",
       "        text-align: right;\n",
       "    }\n",
       "</style>\n",
       "<table border=\"1\" class=\"dataframe\">\n",
       "  <thead>\n",
       "    <tr style=\"text-align: right;\">\n",
       "      <th></th>\n",
       "      <th>Rating</th>\n",
       "      <th>Reviews</th>\n",
       "      <th>Size</th>\n",
       "      <th>Price</th>\n",
       "    </tr>\n",
       "  </thead>\n",
       "  <tbody>\n",
       "    <tr>\n",
       "      <th>Rating</th>\n",
       "      <td>1.000000</td>\n",
       "      <td>0.047298</td>\n",
       "      <td>0.056569</td>\n",
       "      <td>-0.016887</td>\n",
       "    </tr>\n",
       "    <tr>\n",
       "      <th>Reviews</th>\n",
       "      <td>0.047298</td>\n",
       "      <td>1.000000</td>\n",
       "      <td>0.106465</td>\n",
       "      <td>-0.022880</td>\n",
       "    </tr>\n",
       "    <tr>\n",
       "      <th>Size</th>\n",
       "      <td>0.056569</td>\n",
       "      <td>0.106465</td>\n",
       "      <td>1.000000</td>\n",
       "      <td>-0.023249</td>\n",
       "    </tr>\n",
       "    <tr>\n",
       "      <th>Price</th>\n",
       "      <td>-0.016887</td>\n",
       "      <td>-0.022880</td>\n",
       "      <td>-0.023249</td>\n",
       "      <td>1.000000</td>\n",
       "    </tr>\n",
       "  </tbody>\n",
       "</table>\n",
       "</div>"
      ],
      "text/plain": [
       "           Rating   Reviews      Size     Price\n",
       "Rating   1.000000  0.047298  0.056569 -0.016887\n",
       "Reviews  0.047298  1.000000  0.106465 -0.022880\n",
       "Size     0.056569  0.106465  1.000000 -0.023249\n",
       "Price   -0.016887 -0.022880 -0.023249  1.000000"
      ]
     },
     "execution_count": 63,
     "metadata": {},
     "output_type": "execute_result"
    }
   ],
   "source": [
    "#10.Is there a correlation between an app’s rating, number of reviews, size, and its price?\n",
    "correlation_matrix = df[['Rating', 'Reviews', 'Size', 'Price']].corr()\n",
    "correlation_matrix "
   ]
  },
  {
   "cell_type": "code",
   "execution_count": 64,
   "id": "0c1108f7",
   "metadata": {},
   "outputs": [
    {
     "name": "stdout",
     "output_type": "stream",
     "text": [
      "Content Rating   Type\n",
      "Adults only 18+  Free       2\n",
      "Everyone         Free    6360\n",
      "                 Paid     526\n",
      "Everyone 10+     Free     283\n",
      "                 Paid      29\n",
      "Mature 17+       Free     351\n",
      "                 Paid      15\n",
      "Teen             Free     892\n",
      "                 Paid      50\n",
      "Unrated          Free       2\n",
      "Name: App, dtype: int64\n"
     ]
    }
   ],
   "source": [
    "#11.How many apps exist for each type (free/paid) across different content ratings?\n",
    "type_content_counts = df.groupby(['Content Rating', 'Type'])['App'].count()\n",
    "print(type_content_counts)\n"
   ]
  },
  {
   "cell_type": "code",
   "execution_count": 65,
   "id": "fe453ac1",
   "metadata": {},
   "outputs": [
    {
     "name": "stdout",
     "output_type": "stream",
     "text": [
      "Number of apps compatible with Android 4.x: 6326\n"
     ]
    }
   ],
   "source": [
    "#12.How many apps are compatible with Android version 4.x?\n",
    "android_4x_apps = df[df['Android Ver'].str.contains('^4\\.', na=False, regex=True)]\n",
    "num_android_4x_apps = android_4x_apps.shape[0]\n",
    "print(f\"Number of apps compatible with Android 4.x: {num_android_4x_apps}\")\n"
   ]
  },
  {
   "cell_type": "code",
   "execution_count": null,
   "id": "783ae298",
   "metadata": {},
   "outputs": [],
   "source": []
  }
 ],
 "metadata": {
  "kernelspec": {
   "display_name": "Python 3 (ipykernel)",
   "language": "python",
   "name": "python3"
  },
  "language_info": {
   "codemirror_mode": {
    "name": "ipython",
    "version": 3
   },
   "file_extension": ".py",
   "mimetype": "text/x-python",
   "name": "python",
   "nbconvert_exporter": "python",
   "pygments_lexer": "ipython3",
   "version": "3.11.4"
  }
 },
 "nbformat": 4,
 "nbformat_minor": 5
}
